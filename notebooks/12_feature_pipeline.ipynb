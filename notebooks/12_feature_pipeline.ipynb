{
 "cells": [
  {
   "cell_type": "code",
   "execution_count": 3,
   "metadata": {},
   "outputs": [],
   "source": [
    "import src.config as config\n",
    "import datetime\n",
    "import pandas as pd\n",
    "import hopsworks\n",
    "from src2.data import load_raw_data\n",
    "\n"
   ]
  },
  {
   "cell_type": "code",
   "execution_count": 20,
   "metadata": {},
   "outputs": [
    {
     "data": {
      "text/plain": [
       "(Timestamp('2025-03-24 11:00:00+0000', tz='UTC'),\n",
       " Timestamp('2025-04-21 11:00:00+0000', tz='UTC'))"
      ]
     },
     "execution_count": 20,
     "metadata": {},
     "output_type": "execute_result"
    }
   ],
   "source": [
    "time_now = pd.to_datetime(datetime.datetime.now(datetime.timezone.utc)).floor('h')\n",
    "fetch_data_from = time_now - datetime.timedelta(days=28)\n",
    "fetch_data_to = time_now\n",
    "fetch_data_from, fetch_data_to"
   ]
  },
  {
   "cell_type": "code",
   "execution_count": 10,
   "metadata": {},
   "outputs": [
    {
     "data": {
      "text/plain": [
       "datetime.datetime(2025, 3, 24, 10, 53, 15, 810278, tzinfo=datetime.timezone.utc)"
      ]
     },
     "execution_count": 10,
     "metadata": {},
     "output_type": "execute_result"
    }
   ],
   "source": [
    "datetime.datetime.now(datetime.timezone.utc) - datetime.timedelta(days=28)"
   ]
  },
  {
   "cell_type": "code",
   "execution_count": 11,
   "metadata": {},
   "outputs": [
    {
     "name": "stdout",
     "output_type": "stream",
     "text": [
      "file already existed on disk for 2024-03\n",
      "file already existed on disk for 2024-04\n"
     ]
    },
    {
     "data": {
      "text/html": [
       "<div>\n",
       "<style scoped>\n",
       "    .dataframe tbody tr th:only-of-type {\n",
       "        vertical-align: middle;\n",
       "    }\n",
       "\n",
       "    .dataframe tbody tr th {\n",
       "        vertical-align: top;\n",
       "    }\n",
       "\n",
       "    .dataframe thead th {\n",
       "        text-align: right;\n",
       "    }\n",
       "</style>\n",
       "<table border=\"1\" class=\"dataframe\">\n",
       "  <thead>\n",
       "    <tr style=\"text-align: right;\">\n",
       "      <th></th>\n",
       "      <th>pickup_datetime</th>\n",
       "      <th>location_id</th>\n",
       "    </tr>\n",
       "  </thead>\n",
       "  <tbody>\n",
       "    <tr>\n",
       "      <th>2475892</th>\n",
       "      <td>2025-03-24 22:50:00</td>\n",
       "      <td>114</td>\n",
       "    </tr>\n",
       "    <tr>\n",
       "      <th>2487078</th>\n",
       "      <td>2025-03-24 10:02:10</td>\n",
       "      <td>90</td>\n",
       "    </tr>\n",
       "    <tr>\n",
       "      <th>2491135</th>\n",
       "      <td>2025-03-24 10:58:45</td>\n",
       "      <td>112</td>\n",
       "    </tr>\n",
       "    <tr>\n",
       "      <th>2491136</th>\n",
       "      <td>2025-03-24 10:59:21</td>\n",
       "      <td>112</td>\n",
       "    </tr>\n",
       "    <tr>\n",
       "      <th>2491137</th>\n",
       "      <td>2025-03-24 10:41:15</td>\n",
       "      <td>161</td>\n",
       "    </tr>\n",
       "    <tr>\n",
       "      <th>...</th>\n",
       "      <td>...</td>\n",
       "      <td>...</td>\n",
       "    </tr>\n",
       "    <tr>\n",
       "      <th>3454538</th>\n",
       "      <td>2025-04-21 09:34:30</td>\n",
       "      <td>262</td>\n",
       "    </tr>\n",
       "    <tr>\n",
       "      <th>3454539</th>\n",
       "      <td>2025-04-21 09:25:20</td>\n",
       "      <td>236</td>\n",
       "    </tr>\n",
       "    <tr>\n",
       "      <th>3454540</th>\n",
       "      <td>2025-04-21 09:09:22</td>\n",
       "      <td>91</td>\n",
       "    </tr>\n",
       "    <tr>\n",
       "      <th>3454541</th>\n",
       "      <td>2025-04-21 09:19:06</td>\n",
       "      <td>100</td>\n",
       "    </tr>\n",
       "    <tr>\n",
       "      <th>3454542</th>\n",
       "      <td>2025-04-21 09:22:10</td>\n",
       "      <td>48</td>\n",
       "    </tr>\n",
       "  </tbody>\n",
       "</table>\n",
       "<p>3341486 rows × 2 columns</p>\n",
       "</div>"
      ],
      "text/plain": [
       "            pickup_datetime  location_id\n",
       "2475892 2025-03-24 22:50:00          114\n",
       "2487078 2025-03-24 10:02:10           90\n",
       "2491135 2025-03-24 10:58:45          112\n",
       "2491136 2025-03-24 10:59:21          112\n",
       "2491137 2025-03-24 10:41:15          161\n",
       "...                     ...          ...\n",
       "3454538 2025-04-21 09:34:30          262\n",
       "3454539 2025-04-21 09:25:20          236\n",
       "3454540 2025-04-21 09:09:22           91\n",
       "3454541 2025-04-21 09:19:06          100\n",
       "3454542 2025-04-21 09:22:10           48\n",
       "\n",
       "[3341486 rows x 2 columns]"
      ]
     },
     "execution_count": 11,
     "metadata": {},
     "output_type": "execute_result"
    }
   ],
   "source": [
    "def fetch_batch_of_recent_data(from_date, to_date):\n",
    "\n",
    "    from_date_ = from_date - datetime.timedelta(days=7*52)\n",
    "    to_date_ = to_date - datetime.timedelta(days=7*52)\n",
    "\n",
    "    rides_1 = load_raw_data(year=from_date_.year, months=from_date_.month)\n",
    "    rides_1 = rides_1.loc[\n",
    "        rides_1['pickup_datetime'] >= from_date_.to_datetime64()]\n",
    "    \n",
    "    rides_2 = load_raw_data(year=to_date_.year, months=to_date_.month)\n",
    "    rides_2 = rides_2.loc[\n",
    "        rides_2['pickup_datetime'] < to_date_.to_datetime64()]\n",
    "    \n",
    "    rides = pd.concat([rides_1,rides_2])\n",
    "\n",
    "    rides['pickup_datetime'] = rides['pickup_datetime'] + datetime.timedelta(days=7*52)\n",
    "\n",
    "    return rides\n",
    "rides = fetch_batch_of_recent_data(fetch_data_from,fetch_data_to)\n",
    "rides\n",
    "\n",
    "\n"
   ]
  },
  {
   "cell_type": "code",
   "execution_count": null,
   "metadata": {},
   "outputs": [],
   "source": []
  },
  {
   "cell_type": "code",
   "execution_count": 12,
   "metadata": {},
   "outputs": [
    {
     "data": {
      "text/plain": [
       "2025-04-01 18:15:00    17\n",
       "2025-04-02 21:41:00    15\n",
       "2025-04-10 20:03:00    15\n",
       "2025-04-09 21:48:00    14\n",
       "2025-03-27 20:27:00    14\n",
       "                       ..\n",
       "2025-04-13 00:54:41     1\n",
       "2025-03-31 11:24:40     1\n",
       "2025-04-13 00:47:30     1\n",
       "2025-04-13 00:48:27     1\n",
       "2025-04-21 09:02:01     1\n",
       "Name: pickup_datetime, Length: 1576685, dtype: int64"
      ]
     },
     "execution_count": 12,
     "metadata": {},
     "output_type": "execute_result"
    }
   ],
   "source": [
    "rides.pickup_datetime.value_counts()"
   ]
  },
  {
   "cell_type": "code",
   "execution_count": 45,
   "metadata": {},
   "outputs": [
    {
     "data": {
      "text/plain": [
       "107051    2025-03-01 23:57:11\n",
       "151710    2025-03-01 14:00:46\n",
       "152755    2025-03-01 14:03:06\n",
       "153100    2025-03-01 14:01:18\n",
       "153268    2025-03-01 14:02:30\n",
       "                  ...        \n",
       "3556421   2025-03-29 13:47:29\n",
       "3556422   2025-03-29 13:14:05\n",
       "3556423   2025-03-29 13:44:23\n",
       "3556424   2025-03-29 13:56:30\n",
       "3556425   2025-03-29 13:25:57\n",
       "Name: pickup_datetime, Length: 6664697, dtype: datetime64[ns]"
      ]
     },
     "execution_count": 45,
     "metadata": {},
     "output_type": "execute_result"
    }
   ],
   "source": [
    "rides[0].loc[rides[0].pickup_datetime < (fetch_data_to.to_datetime64())]['pickup_datetime']"
   ]
  },
  {
   "cell_type": "code",
   "execution_count": 13,
   "metadata": {},
   "outputs": [],
   "source": [
    "from src2.data import transform_raw_into_ts_data"
   ]
  },
  {
   "cell_type": "code",
   "execution_count": 14,
   "metadata": {},
   "outputs": [
    {
     "name": "stdout",
     "output_type": "stream",
     "text": [
      "2025-04-21 06:54:02,058 WARNING: DeprecationWarning: np.find_common_type is deprecated.  Please use `np.result_type` or `np.promote_types`.\n",
      "See https://numpy.org/devdocs/release/1.25.0-notes.html and the docs for more information.  (Deprecated NumPy 1.25)\n",
      "\n",
      "2025-04-21 06:54:02,068 WARNING: DeprecationWarning: np.find_common_type is deprecated.  Please use `np.result_type` or `np.promote_types`.\n",
      "See https://numpy.org/devdocs/release/1.25.0-notes.html and the docs for more information.  (Deprecated NumPy 1.25)\n",
      "\n"
     ]
    }
   ],
   "source": [
    "ts_data = transform_raw_into_ts_data(rides)"
   ]
  },
  {
   "cell_type": "code",
   "execution_count": 9,
   "metadata": {},
   "outputs": [
    {
     "data": {
      "text/html": [
       "<div>\n",
       "<style scoped>\n",
       "    .dataframe tbody tr th:only-of-type {\n",
       "        vertical-align: middle;\n",
       "    }\n",
       "\n",
       "    .dataframe tbody tr th {\n",
       "        vertical-align: top;\n",
       "    }\n",
       "\n",
       "    .dataframe thead th {\n",
       "        text-align: right;\n",
       "    }\n",
       "</style>\n",
       "<table border=\"1\" class=\"dataframe\">\n",
       "  <thead>\n",
       "    <tr style=\"text-align: right;\">\n",
       "      <th></th>\n",
       "      <th>pickup_hour</th>\n",
       "      <th>rides</th>\n",
       "      <th>location_id</th>\n",
       "    </tr>\n",
       "  </thead>\n",
       "  <tbody>\n",
       "    <tr>\n",
       "      <th>670</th>\n",
       "      <td>2025-04-01 09:00:00</td>\n",
       "      <td>12</td>\n",
       "      <td>4</td>\n",
       "    </tr>\n",
       "    <tr>\n",
       "      <th>671</th>\n",
       "      <td>2025-04-01 10:00:00</td>\n",
       "      <td>5</td>\n",
       "      <td>4</td>\n",
       "    </tr>\n",
       "    <tr>\n",
       "      <th>1342</th>\n",
       "      <td>2025-04-01 09:00:00</td>\n",
       "      <td>5</td>\n",
       "      <td>7</td>\n",
       "    </tr>\n",
       "    <tr>\n",
       "      <th>1343</th>\n",
       "      <td>2025-04-01 10:00:00</td>\n",
       "      <td>1</td>\n",
       "      <td>7</td>\n",
       "    </tr>\n",
       "    <tr>\n",
       "      <th>2014</th>\n",
       "      <td>2025-04-01 09:00:00</td>\n",
       "      <td>2</td>\n",
       "      <td>10</td>\n",
       "    </tr>\n",
       "    <tr>\n",
       "      <th>...</th>\n",
       "      <td>...</td>\n",
       "      <td>...</td>\n",
       "      <td>...</td>\n",
       "    </tr>\n",
       "    <tr>\n",
       "      <th>172031</th>\n",
       "      <td>2025-04-01 10:00:00</td>\n",
       "      <td>0</td>\n",
       "      <td>84</td>\n",
       "    </tr>\n",
       "    <tr>\n",
       "      <th>172702</th>\n",
       "      <td>2025-04-01 09:00:00</td>\n",
       "      <td>0</td>\n",
       "      <td>187</td>\n",
       "    </tr>\n",
       "    <tr>\n",
       "      <th>172703</th>\n",
       "      <td>2025-04-01 10:00:00</td>\n",
       "      <td>0</td>\n",
       "      <td>187</td>\n",
       "    </tr>\n",
       "    <tr>\n",
       "      <th>173374</th>\n",
       "      <td>2025-04-01 09:00:00</td>\n",
       "      <td>0</td>\n",
       "      <td>156</td>\n",
       "    </tr>\n",
       "    <tr>\n",
       "      <th>173375</th>\n",
       "      <td>2025-04-01 10:00:00</td>\n",
       "      <td>0</td>\n",
       "      <td>156</td>\n",
       "    </tr>\n",
       "  </tbody>\n",
       "</table>\n",
       "<p>516 rows × 3 columns</p>\n",
       "</div>"
      ],
      "text/plain": [
       "               pickup_hour  rides  location_id\n",
       "670    2025-04-01 09:00:00     12            4\n",
       "671    2025-04-01 10:00:00      5            4\n",
       "1342   2025-04-01 09:00:00      5            7\n",
       "1343   2025-04-01 10:00:00      1            7\n",
       "2014   2025-04-01 09:00:00      2           10\n",
       "...                    ...    ...          ...\n",
       "172031 2025-04-01 10:00:00      0           84\n",
       "172702 2025-04-01 09:00:00      0          187\n",
       "172703 2025-04-01 10:00:00      0          187\n",
       "173374 2025-04-01 09:00:00      0          156\n",
       "173375 2025-04-01 10:00:00      0          156\n",
       "\n",
       "[516 rows x 3 columns]"
      ]
     },
     "execution_count": 9,
     "metadata": {},
     "output_type": "execute_result"
    }
   ],
   "source": [
    "ts_data.loc[ts_data.pickup_hour > '2025-04-01 08:00:00']\n"
   ]
  },
  {
   "cell_type": "code",
   "execution_count": 13,
   "metadata": {},
   "outputs": [
    {
     "data": {
      "text/plain": [
       "numpy.datetime64('2025-03-29T09:25:12.792956000')"
      ]
     },
     "execution_count": 13,
     "metadata": {},
     "output_type": "execute_result"
    }
   ],
   "source": [
    "pd.to_datetime(datetime.datetime.now(datetime.timezone.utc)).to_datetime64()"
   ]
  },
  {
   "cell_type": "code",
   "execution_count": 15,
   "metadata": {},
   "outputs": [],
   "source": [
    "HOPSWORK_PROJECT_NAME = config.HOPSWORK_PROJECT_NAME\n",
    "HOPSWORK_API_KEY = config.HOPSWORK_API_KEY"
   ]
  },
  {
   "cell_type": "code",
   "execution_count": 16,
   "metadata": {},
   "outputs": [
    {
     "name": "stdout",
     "output_type": "stream",
     "text": [
      "2025-04-21 06:54:26,811 INFO: Initializing external client\n",
      "2025-04-21 06:54:26,814 INFO: Base URL: https://c.app.hopsworks.ai:443\n",
      "2025-04-21 06:54:29,098 WARNING: UserWarning: The installed hopsworks client version 4.1.8 may not be compatible with the connected Hopsworks backend version 4.2.0. \n",
      "To ensure compatibility please install the latest bug fix release matching the minor version of your backend (4.2) by running 'pip install hopsworks==4.2.*'\n",
      "\n"
     ]
    },
    {
     "name": "stderr",
     "output_type": "stream",
     "text": [
      "\n",
      "\n"
     ]
    },
    {
     "name": "stdout",
     "output_type": "stream",
     "text": [
      "2025-04-21 06:54:41,692 INFO: Python Engine initialized.\n",
      "\n",
      "Logged in to project, explore it here https://c.app.hopsworks.ai:443/p/1214618\n"
     ]
    }
   ],
   "source": [
    "project = hopsworks.login(project=HOPSWORK_PROJECT_NAME, api_key_value=HOPSWORK_API_KEY)\n"
   ]
  },
  {
   "cell_type": "code",
   "execution_count": 17,
   "metadata": {},
   "outputs": [],
   "source": [
    "feature_store = project.get_feature_store()"
   ]
  },
  {
   "cell_type": "code",
   "execution_count": 18,
   "metadata": {},
   "outputs": [],
   "source": [
    "feature_group = feature_store.get_or_create_feature_group(\n",
    "    name=config.FEATURE_GROUP_NAME,\n",
    "    version = config.FEATURE_GROUP_VERSION,\n",
    "    description = 'time series data at hourly frequency',\n",
    "    primary_key = ['pickup_hour','location_id'],\n",
    "    event_time = 'pickup_hour'\n",
    "    )"
   ]
  },
  {
   "cell_type": "code",
   "execution_count": 19,
   "metadata": {},
   "outputs": [
    {
     "name": "stderr",
     "output_type": "stream",
     "text": [
      "Uploading Dataframe: 100.00% |██████████| Rows 172704/172704 | Elapsed Time: 00:27 | Remaining Time: 00:00\n"
     ]
    },
    {
     "name": "stdout",
     "output_type": "stream",
     "text": [
      "Launching job: time_series_data_hourly_feature_group_1_offline_fg_materialization\n",
      "Job started successfully, you can follow the progress at \n",
      "https://c.app.hopsworks.ai:443/p/1214618/jobs/named/time_series_data_hourly_feature_group_1_offline_fg_materialization/executions\n"
     ]
    },
    {
     "data": {
      "text/plain": [
       "(Job('time_series_data_hourly_feature_group_1_offline_fg_materialization', 'SPARK'),\n",
       " None)"
      ]
     },
     "execution_count": 19,
     "metadata": {},
     "output_type": "execute_result"
    }
   ],
   "source": [
    "feature_group.insert(ts_data, write_options={'wait_for_job':False})"
   ]
  },
  {
   "cell_type": "code",
   "execution_count": 19,
   "metadata": {},
   "outputs": [
    {
     "data": {
      "text/html": [
       "<div>\n",
       "<style scoped>\n",
       "    .dataframe tbody tr th:only-of-type {\n",
       "        vertical-align: middle;\n",
       "    }\n",
       "\n",
       "    .dataframe tbody tr th {\n",
       "        vertical-align: top;\n",
       "    }\n",
       "\n",
       "    .dataframe thead th {\n",
       "        text-align: right;\n",
       "    }\n",
       "</style>\n",
       "<table border=\"1\" class=\"dataframe\">\n",
       "  <thead>\n",
       "    <tr style=\"text-align: right;\">\n",
       "      <th></th>\n",
       "      <th>pickup_hour</th>\n",
       "      <th>rides</th>\n",
       "      <th>location_id</th>\n",
       "    </tr>\n",
       "  </thead>\n",
       "  <tbody>\n",
       "    <tr>\n",
       "      <th>0</th>\n",
       "      <td>2025-03-04 11:00:00</td>\n",
       "      <td>1</td>\n",
       "      <td>4</td>\n",
       "    </tr>\n",
       "    <tr>\n",
       "      <th>1</th>\n",
       "      <td>2025-03-04 12:00:00</td>\n",
       "      <td>2</td>\n",
       "      <td>4</td>\n",
       "    </tr>\n",
       "    <tr>\n",
       "      <th>2</th>\n",
       "      <td>2025-03-04 13:00:00</td>\n",
       "      <td>2</td>\n",
       "      <td>4</td>\n",
       "    </tr>\n",
       "    <tr>\n",
       "      <th>3</th>\n",
       "      <td>2025-03-04 14:00:00</td>\n",
       "      <td>3</td>\n",
       "      <td>4</td>\n",
       "    </tr>\n",
       "    <tr>\n",
       "      <th>4</th>\n",
       "      <td>2025-03-04 15:00:00</td>\n",
       "      <td>6</td>\n",
       "      <td>4</td>\n",
       "    </tr>\n",
       "    <tr>\n",
       "      <th>...</th>\n",
       "      <td>...</td>\n",
       "      <td>...</td>\n",
       "      <td>...</td>\n",
       "    </tr>\n",
       "    <tr>\n",
       "      <th>173371</th>\n",
       "      <td>2025-04-01 06:00:00</td>\n",
       "      <td>0</td>\n",
       "      <td>156</td>\n",
       "    </tr>\n",
       "    <tr>\n",
       "      <th>173372</th>\n",
       "      <td>2025-04-01 07:00:00</td>\n",
       "      <td>0</td>\n",
       "      <td>156</td>\n",
       "    </tr>\n",
       "    <tr>\n",
       "      <th>173373</th>\n",
       "      <td>2025-04-01 08:00:00</td>\n",
       "      <td>0</td>\n",
       "      <td>156</td>\n",
       "    </tr>\n",
       "    <tr>\n",
       "      <th>173374</th>\n",
       "      <td>2025-04-01 09:00:00</td>\n",
       "      <td>0</td>\n",
       "      <td>156</td>\n",
       "    </tr>\n",
       "    <tr>\n",
       "      <th>173375</th>\n",
       "      <td>2025-04-01 10:00:00</td>\n",
       "      <td>0</td>\n",
       "      <td>156</td>\n",
       "    </tr>\n",
       "  </tbody>\n",
       "</table>\n",
       "<p>173376 rows × 3 columns</p>\n",
       "</div>"
      ],
      "text/plain": [
       "               pickup_hour  rides  location_id\n",
       "0      2025-03-04 11:00:00      1            4\n",
       "1      2025-03-04 12:00:00      2            4\n",
       "2      2025-03-04 13:00:00      2            4\n",
       "3      2025-03-04 14:00:00      3            4\n",
       "4      2025-03-04 15:00:00      6            4\n",
       "...                    ...    ...          ...\n",
       "173371 2025-04-01 06:00:00      0          156\n",
       "173372 2025-04-01 07:00:00      0          156\n",
       "173373 2025-04-01 08:00:00      0          156\n",
       "173374 2025-04-01 09:00:00      0          156\n",
       "173375 2025-04-01 10:00:00      0          156\n",
       "\n",
       "[173376 rows x 3 columns]"
      ]
     },
     "execution_count": 19,
     "metadata": {},
     "output_type": "execute_result"
    }
   ],
   "source": [
    "ts_data"
   ]
  },
  {
   "cell_type": "code",
   "execution_count": null,
   "metadata": {},
   "outputs": [],
   "source": []
  },
  {
   "cell_type": "code",
   "execution_count": null,
   "metadata": {},
   "outputs": [],
   "source": [
    "\n",
    "\n"
   ]
  },
  {
   "cell_type": "code",
   "execution_count": null,
   "metadata": {},
   "outputs": [],
   "source": []
  }
 ],
 "metadata": {
  "kernelspec": {
   "display_name": ".venv",
   "language": "python",
   "name": "python3"
  },
  "language_info": {
   "codemirror_mode": {
    "name": "ipython",
    "version": 3
   },
   "file_extension": ".py",
   "mimetype": "text/x-python",
   "name": "python",
   "nbconvert_exporter": "python",
   "pygments_lexer": "ipython3",
   "version": "3.9.13"
  }
 },
 "nbformat": 4,
 "nbformat_minor": 2
}
